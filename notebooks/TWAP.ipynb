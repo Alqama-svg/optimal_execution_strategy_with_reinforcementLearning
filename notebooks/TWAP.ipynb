{
 "cells": [
  {
   "cell_type": "code",
   "execution_count": null,
   "id": "98b87a47-1282-429f-aca7-694257be2b3b",
   "metadata": {},
   "outputs": [],
   "source": [
    "def run_twap_strategy(env, order_size=MAX_ORDER_SIZE, duration=MAX_TIME_SECONDS):\n",
    "    state = env.reset()\n",
    "    steps = duration\n",
    "    shares_per_step = max(1, order_size // steps)\n",
    "    total_reward = 0\n",
    "    \n",
    "    for step in range(steps):\n",
    "        if env.inventory <= 0:\n",
    "            break\n",
    "        \n",
    "        # Convert shares to action (ensuring we don't exceed available actions)\n",
    "        action_size = min(shares_per_step, env.inventory)\n",
    "        action = min(4, max(1, action_size // Q_MIN))  # Convert to action space\n",
    "        \n",
    "        _, reward, done, _ = env.step(action)\n",
    "        total_reward += reward\n",
    "        if done:\n",
    "            break\n",
    "    return total_reward"
   ]
  }
 ],
 "metadata": {
  "kernelspec": {
   "display_name": "Python 3 (ipykernel)",
   "language": "python",
   "name": "python3"
  },
  "language_info": {
   "codemirror_mode": {
    "name": "ipython",
    "version": 3
   },
   "file_extension": ".py",
   "mimetype": "text/x-python",
   "name": "python",
   "nbconvert_exporter": "python",
   "pygments_lexer": "ipython3",
   "version": "3.12.4"
  }
 },
 "nbformat": 4,
 "nbformat_minor": 5
}
