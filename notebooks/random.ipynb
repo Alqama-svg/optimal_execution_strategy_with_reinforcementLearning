{
 "cells": [
  {
   "cell_type": "code",
   "execution_count": null,
   "id": "06f8d8d3-40fa-4f10-a571-fc2f090d81db",
   "metadata": {},
   "outputs": [],
   "source": [
    "def run_random_strategy(env):\n",
    "    state = env.reset()\n",
    "    total_reward = 0\n",
    "    \n",
    "    while True:\n",
    "        action = random.randint(0, 4)\n",
    "        _, reward, done, _ = env.step(action)\n",
    "        total_reward += reward\n",
    "        if done:\n",
    "            break\n",
    "    return total_reward"
   ]
  }
 ],
 "metadata": {
  "kernelspec": {
   "display_name": "Python 3 (ipykernel)",
   "language": "python",
   "name": "python3"
  },
  "language_info": {
   "codemirror_mode": {
    "name": "ipython",
    "version": 3
   },
   "file_extension": ".py",
   "mimetype": "text/x-python",
   "name": "python",
   "nbconvert_exporter": "python",
   "pygments_lexer": "ipython3",
   "version": "3.12.4"
  }
 },
 "nbformat": 4,
 "nbformat_minor": 5
}
